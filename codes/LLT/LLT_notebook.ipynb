{
 "cells": [
  {
   "cell_type": "markdown",
   "metadata": {},
   "source": [
    "## Computing LLT polynomials\n",
    "\n",
    "% Calvin Yost-Wolff and Sylvester W. Zhang"
   ]
  },
  {
   "cell_type": "code",
   "execution_count": 2,
   "metadata": {},
   "outputs": [],
   "source": [
    "from LLT_polynomials import *\n",
    "from sympy import latex\n",
    "import ipywidgets as widgets\n",
    "from ipywidgets import interact, interactive, fixed, interact_manual, TwoByTwoLayout, GridspecLayout, AppLayout, Layout"
   ]
  },
  {
   "cell_type": "markdown",
   "metadata": {},
   "source": [
    "Let $\\lambda$ and $\\mu$ be two partitions. The function ``LLT(Lambda,Mu,n,m)`` computes the rank-$n$ LLT polynomial of the skew partition $\\lambda/\\mu$ $$\\mathcal{G}_{\\lambda/\\mu}^n(q,z_1,\\cdots,z_m)$$ \n",
    "which is the generating function of all semistandard ribbon tableaux with maximal entry $m$."
   ]
  },
  {
   "cell_type": "markdown",
   "metadata": {},
   "source": [
    "The $n=1$ LLT polynomials are Schur polynomials -- ``Schur(Lambda,Mu,m)`` computes the Schur polnomial associated to the skew partition $\\lambda/\\mu$ of maximal entry $m$:\n",
    "$$\\mathcal S_{\\lambda/\\mu}(z_1,\\cdots,z_m)$$"
   ]
  },
  {
   "cell_type": "code",
   "execution_count": 3,
   "metadata": {},
   "outputs": [],
   "source": [
    "Lambda=widgets.Text(\n",
    "    value='', placeholder='Enter a partition', description='$\\lambda=$', disabled=False\n",
    ")\n",
    "Mu=widgets.Text(\n",
    "    value='', placeholder='Enter a partition', description='$\\mu=$', disabled=False\n",
    ")\n",
    "n=widgets.IntText(\n",
    "    value=1, placeholder='Enter the size of ribbons', description='$n=$', disabled=False\n",
    ")\n",
    "m=widgets.IntText(\n",
    "    value=1, placeholder='Enter the maximal entry', description='$m=$', disabled=False\n",
    ")\n",
    "\n",
    "LLT_out= widgets.Output(layout={'border': '1px solid black'})\n",
    "\n",
    "llt=widgets.HTMLMath(\n",
    "    value='$$\\mathcal{G}^n_{\\lambda/\\mu}(q,z_1,\\cdots,z_m)=$$',\n",
    "    placeholder='',\n",
    "    description='',\n",
    "    layout=Layout(height='auto', width='auto',justify_content='center')\n",
    "    )\n",
    "LLT_footer=widgets.HBox([llt,LLT_out])\n",
    "LLT_footer.layout.justify_content='center'\n",
    "\n",
    "calculate=widgets.Button(\n",
    "    description='Calculate',\n",
    "    disabled=False,\n",
    "    button_style='', # 'success', 'info', 'warning', 'danger' or ''\n",
    "    tooltip='Click me',\n",
    "    icon='check',\n",
    "    layout=Layout(height='auto', width='auto',align_items='center')\n",
    ")\n",
    "\n",
    "def update_LLT(b):\n",
    "    LLT_out.clear_output()\n",
    "    lam=eval('['+Lambda.value+']')\n",
    "    mu=eval('['+Mu.value+']')\n",
    "    with LLT_out:\n",
    "        display(LLT(lam,mu,n.value,m.value))\n",
    "    return \n",
    "\n",
    "calculate.on_click(update_LLT)\n"
   ]
  },
  {
   "cell_type": "code",
   "execution_count": 4,
   "metadata": {},
   "outputs": [
    {
     "data": {
      "application/vnd.jupyter.widget-view+json": {
       "model_id": "da4e8ff37c5c428c85d2188d135746f8",
       "version_major": 2,
       "version_minor": 0
      },
      "text/plain": [
       "VBox(children=(AppLayout(children=(Button(description='Calculate', icon='check', layout=Layout(align_items='ce…"
      ]
     },
     "metadata": {},
     "output_type": "display_data"
    }
   ],
   "source": [
    "layout_2x2 = TwoByTwoLayout(top_left=Lambda,\n",
    "                            bottom_left=Mu,\n",
    "                            top_right=n,\n",
    "                            bottom_right=m)\n",
    "\n",
    "applayout=AppLayout(header=None,\n",
    "          left_sidebar=None,\n",
    "          center=layout_2x2,\n",
    "          right_sidebar=calculate,\n",
    "          footer=None)\n",
    "\n",
    "LLTcalc=widgets.VBox([applayout,LLT_footer])\n",
    "\n",
    "display(LLTcalc)"
   ]
  },
  {
   "cell_type": "code",
   "execution_count": 5,
   "metadata": {},
   "outputs": [
    {
     "data": {
      "text/plain": [
       "['builtins', 'builtins', 'types', 'ipywidgets']"
      ]
     },
     "execution_count": 5,
     "metadata": {},
     "output_type": "execute_result"
    }
   ],
   "source": []
  },
  {
   "cell_type": "code",
   "execution_count": null,
   "metadata": {},
   "outputs": [],
   "source": []
  },
  {
   "cell_type": "code",
   "execution_count": null,
   "metadata": {},
   "outputs": [],
   "source": []
  }
 ],
 "metadata": {
  "kernelspec": {
   "display_name": "Python 3",
   "language": "python",
   "name": "python3"
  },
  "language_info": {
   "codemirror_mode": {
    "name": "ipython",
    "version": 3
   },
   "file_extension": ".py",
   "mimetype": "text/x-python",
   "name": "python",
   "nbconvert_exporter": "python",
   "pygments_lexer": "ipython3",
   "version": "3.7.6"
  }
 },
 "nbformat": 4,
 "nbformat_minor": 4
}
