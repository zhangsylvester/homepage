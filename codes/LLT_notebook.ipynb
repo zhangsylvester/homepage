{
 "cells": [
  {
   "cell_type": "markdown",
   "metadata": {},
   "source": [
    "## Computing LLT polynomials\n",
    "\n",
    "% Calvin Yost-Wolff and Sylvester W. Zhang"
   ]
  },
  {
   "cell_type": "code",
   "execution_count": 1,
   "metadata": {},
   "outputs": [],
   "source": [
    "from LLT_polynomials import *"
   ]
  },
  {
   "cell_type": "markdown",
   "metadata": {},
   "source": [
    "Let $\\lambda$ and $\\nu$ be two partitions. The function ``LLT(Lambda,Nu,n,m)`` computes the rank-$n$ LLT polynomial of the skew partition $\\lambda/\\nu$ $$\\mathcal{G}_{\\lambda/\\nu}^n(q,z_1,\\cdots,z_m)$$ \n",
    "which is the generating function of all semistandard ribbon tableaux with maximal entry $m$."
   ]
  },
  {
   "cell_type": "code",
   "execution_count": 2,
   "metadata": {},
   "outputs": [
    {
     "data": {
      "text/latex": [
       "$\\displaystyle q^{3} z_{1}^{2} z_{2} + q^{3} z_{1}^{2} z_{3} + q^{3} z_{1} z_{2}^{2} + 2 q^{3} z_{1} z_{2} z_{3} + q^{3} z_{1} z_{3}^{2} + q^{3} z_{2}^{2} z_{3} + q^{3} z_{2} z_{3}^{2} + q z_{1} z_{2} z_{3}$"
      ],
      "text/plain": [
       "q**3*z_1**2*z_2 + q**3*z_1**2*z_3 + q**3*z_1*z_2**2 + 2*q**3*z_1*z_2*z_3 + q**3*z_1*z_3**2 + q**3*z_2**2*z_3 + q**3*z_2*z_3**2 + q*z_1*z_2*z_3"
      ]
     },
     "execution_count": 2,
     "metadata": {},
     "output_type": "execute_result"
    }
   ],
   "source": [
    "LLT([3,3,2,1],[],3,3)"
   ]
  },
  {
   "cell_type": "markdown",
   "metadata": {},
   "source": [
    "The $n=1$ LLT polynomials are Schur polynomials -- ``Schur(Lambda,Nu,m)`` computes the Schur polnomial associated to the skew partition $\\lambda/\\nu$ of maximal entry $m$:\n",
    "$$\\mathcal S_{\\lambda/\\nu}(z_1,\\cdots,z_m)$$"
   ]
  },
  {
   "cell_type": "code",
   "execution_count": 3,
   "metadata": {},
   "outputs": [
    {
     "data": {
      "text/latex": [
       "$\\displaystyle z_{1}^{3} z_{2}^{3} z_{3}^{2} + z_{1}^{3} z_{2}^{2} z_{3}^{3} + z_{1}^{2} z_{2}^{3} z_{3}^{3}$"
      ],
      "text/plain": [
       "z_1**3*z_2**3*z_3**2 + z_1**3*z_2**2*z_3**3 + z_1**2*z_2**3*z_3**3"
      ]
     },
     "execution_count": 3,
     "metadata": {},
     "output_type": "execute_result"
    }
   ],
   "source": [
    "Schur([3,3,2,1],[1],3)"
   ]
  },
  {
   "cell_type": "code",
   "execution_count": null,
   "metadata": {},
   "outputs": [],
   "source": []
  }
 ],
 "metadata": {
  "kernelspec": {
   "display_name": "Python 3",
   "language": "python",
   "name": "python3"
  },
  "language_info": {
   "codemirror_mode": {
    "name": "ipython",
    "version": 3
   },
   "file_extension": ".py",
   "mimetype": "text/x-python",
   "name": "python",
   "nbconvert_exporter": "python",
   "pygments_lexer": "ipython3",
   "version": "3.7.6"
  }
 },
 "nbformat": 4,
 "nbformat_minor": 4
}
